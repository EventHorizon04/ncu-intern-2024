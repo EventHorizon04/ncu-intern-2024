{
 "cells": [
  {
   "cell_type": "code",
   "execution_count": 12,
   "metadata": {},
   "outputs": [],
   "source": [
    "import glob\n",
    "import os\n",
    "import numpy as np\n",
    "from tqdm import tqdm\n",
    "from scipy.io import loadmat\n",
    "import torch\n",
    "import torch.nn as nn\n",
    "from torch.utils.data import DataLoader\n",
    "from torch.utils.data import Dataset, DataLoader, random_split\n",
    "import time\n",
    "import matplotlib\n",
    "from matplotlib import pyplot as plt\n",
    "\n",
    "from UNETA import attention_unet"
   ]
  },
  {
   "cell_type": "code",
   "execution_count": 13,
   "metadata": {},
   "outputs": [],
   "source": [
    "device = torch.device('cuda')"
   ]
  },
  {
   "cell_type": "code",
   "execution_count": 14,
   "metadata": {},
   "outputs": [],
   "source": [
    "class CSIDataset(Dataset):\n",
    "    def __init__(self, roots):\n",
    "        self.files = []\n",
    "        for root in roots:\n",
    "            self.files.extend(glob.glob(root))\n",
    "    \n",
    "    def __len__(self):\n",
    "        return len(self.files)        \n",
    "            \n",
    "    def __getitem__(self, index):\n",
    "        \n",
    "        csi_amp_data = loadmat(self.files[index])['amplitude']\n",
    "        keypoints = np.load(self.files[index].replace(\"CSI\",'GT').replace('.mat','.npy'), allow_pickle=True)[:, 0:2] # shape [17, 2] -> [x, y]\n",
    "        # print(keypoints)\n",
    "        csi_amp_data = csi_amp_data.reshape(9, 30, 40)\n",
    "        return torch.Tensor(csi_amp_data), torch.Tensor(keypoints)"
   ]
  },
  {
   "cell_type": "code",
   "execution_count": 15,
   "metadata": {},
   "outputs": [],
   "source": [
    "DataPath = [\n",
    "    r'D:\\CSKU\\NCU\\workspace\\data\\CSI\\S01\\A0[1-6]\\*.mat',\n",
    "    r'D:\\CSKU\\NCU\\workspace\\data\\CSI\\S0[2-5]\\A0[1-8]\\*.mat',\n",
    "    r'D:\\CSKU\\NCU\\workspace\\data\\CSI\\S09\\A0[1-8]\\*.mat',\n",
    "]"
   ]
  },
  {
   "cell_type": "code",
   "execution_count": 16,
   "metadata": {},
   "outputs": [],
   "source": [
    "dataset = CSIDataset(DataPath)\n",
    "# print(len(dataset))\n",
    "\n",
    "# setup split size\n",
    "split_ratio = 0.6\n",
    "train_size = int(split_ratio*len(dataset))\n",
    "val_size = int((len(dataset) - train_size + 1) * 0.5)\n",
    "test_size = int((len(dataset) - train_size - 1) * 0.5)\n",
    "# print(train_size, val_size, test_size)\n",
    "# print(train_size + val_size + test_size)\n",
    "\n",
    "# split train, val, test dataset\n",
    "train_dataset, val_dataset, test_dataset = random_split(\n",
    "    dataset, lengths=[train_size, val_size, test_size],\n",
    "    generator=torch.Generator().manual_seed(0)\n",
    ")\n",
    "\n",
    "train_dataloader = DataLoader(train_dataset, batch_size=128, shuffle=True)\n",
    "val_dataloader = DataLoader(val_dataset, batch_size=128, shuffle=False)\n",
    "test_dataloader = DataLoader(test_dataset, batch_size=1, shuffle=False)"
   ]
  },
  {
   "cell_type": "code",
   "execution_count": 17,
   "metadata": {},
   "outputs": [],
   "source": [
    "# Hyperparameters\n",
    "lr = 0.001\n",
    "epochs = 50\n",
    "criterion = nn.MSELoss().cuda()\n",
    "criterion_huber = nn.HuberLoss(delta=0.75)\n",
    "\n",
    "model = attention_unet().to(device)\n",
    "\n",
    "optimizer = torch.optim.Adam(model.parameters(), lr=lr)\n",
    "scheduler = torch.optim.lr_scheduler.ExponentialLR(optimizer=optimizer, gamma=0.99)"
   ]
  },
  {
   "cell_type": "code",
   "execution_count": 18,
   "metadata": {},
   "outputs": [],
   "source": [
    "# init weight\n",
    "face = [0,1,2,3,4]\n",
    "body = [5,6,11,12]\n",
    "LHand = [6,8,10]\n",
    "RHand = [5,7,9]\n",
    "LLeg = [12,14,16]\n",
    "RLeg = [11,13,15]\n",
    "\n",
    "w = [1, 1, 1, 1, 1, 1, 1, 2.5, 2.5, 2.5, 2.5, 1, 1, 2.5, 2.5, 2.5, 2.5]"
   ]
  },
  {
   "cell_type": "code",
   "execution_count": 19,
   "metadata": {},
   "outputs": [],
   "source": [
    "def weighted_mse_loss(input, target, weight):\n",
    "    return torch.sum(weight * (input - target) ** 2)"
   ]
  },
  {
   "cell_type": "code",
   "execution_count": 23,
   "metadata": {},
   "outputs": [
    {
     "name": "stdout",
     "output_type": "stream",
     "text": [
      "Epoch 1  LR=0.001\n"
     ]
    },
    {
     "name": "stderr",
     "output_type": "stream",
     "text": [
      "Train: 100%|██████████| 80/80 [00:47<00:00,  1.70batch/s, avgloss=189704.761285, loss=12171357.515625] \n",
      "Validate: 100%|██████████| 27/27 [00:09<00:00,  2.92batch/s, avgloss=148768.138021, loss=4016739.7265625]\n"
     ]
    },
    {
     "name": "stdout",
     "output_type": "stream",
     "text": [
      "Epoch 2  LR=0.001\n"
     ]
    },
    {
     "name": "stderr",
     "output_type": "stream",
     "text": [
      "Train: 100%|██████████| 80/80 [00:49<00:00,  1.61batch/s, avgloss=148768.138021, loss=11263862.3671875]\n",
      "Validate: 100%|██████████| 27/27 [00:10<00:00,  2.61batch/s, avgloss=167542.983507, loss=4523660.5546875]\n"
     ]
    },
    {
     "name": "stdout",
     "output_type": "stream",
     "text": [
      "Epoch 3  LR=0.001\n"
     ]
    },
    {
     "name": "stderr",
     "output_type": "stream",
     "text": [
      "Train: 100%|██████████| 80/80 [01:18<00:00,  1.02batch/s, avgloss=167542.983507, loss=10765910.6640625]\n",
      "Validate: 100%|██████████| 27/27 [00:53<00:00,  1.96s/batch, avgloss=133881.842303, loss=3614809.7421875]\n"
     ]
    },
    {
     "name": "stdout",
     "output_type": "stream",
     "text": [
      "Epoch 4  LR=0.001\n"
     ]
    },
    {
     "name": "stderr",
     "output_type": "stream",
     "text": [
      "Train: 100%|██████████| 80/80 [00:59<00:00,  1.35batch/s, avgloss=133881.842303, loss=10032181.47265625]\n",
      "Validate: 100%|██████████| 27/27 [00:09<00:00,  2.88batch/s, avgloss=135588.802807, loss=3660897.67578125]\n"
     ]
    },
    {
     "name": "stdout",
     "output_type": "stream",
     "text": [
      "Epoch 5  LR=0.001\n"
     ]
    },
    {
     "name": "stderr",
     "output_type": "stream",
     "text": [
      "Train: 100%|██████████| 80/80 [00:48<00:00,  1.65batch/s, avgloss=135588.802807, loss=9608074.5546875]\n",
      "Validate: 100%|██████████| 27/27 [00:09<00:00,  2.86batch/s, avgloss=120207.247251, loss=3245595.67578125]\n"
     ]
    },
    {
     "name": "stdout",
     "output_type": "stream",
     "text": [
      "Epoch 6  LR=0.001\n"
     ]
    },
    {
     "name": "stderr",
     "output_type": "stream",
     "text": [
      "Train: 100%|██████████| 80/80 [00:49<00:00,  1.63batch/s, avgloss=120207.247251, loss=8813537.171875] \n",
      "Validate: 100%|██████████| 27/27 [00:09<00:00,  2.70batch/s, avgloss=133318.557870, loss=3599601.0625]   \n"
     ]
    },
    {
     "name": "stdout",
     "output_type": "stream",
     "text": [
      "Epoch 7  LR=0.001\n"
     ]
    },
    {
     "name": "stderr",
     "output_type": "stream",
     "text": [
      "Train: 100%|██████████| 80/80 [00:49<00:00,  1.63batch/s, avgloss=133318.557870, loss=8527087.849609375]\n",
      "Validate: 100%|██████████| 27/27 [00:09<00:00,  2.90batch/s, avgloss=160874.309028, loss=4343606.34375] \n"
     ]
    },
    {
     "name": "stdout",
     "output_type": "stream",
     "text": [
      "Epoch 8  LR=0.001\n"
     ]
    },
    {
     "name": "stderr",
     "output_type": "stream",
     "text": [
      "Train: 100%|██████████| 80/80 [00:47<00:00,  1.68batch/s, avgloss=160874.309028, loss=8074841.1796875]\n",
      "Validate: 100%|██████████| 27/27 [00:09<00:00,  2.89batch/s, avgloss=130254.592014, loss=3516873.984375] \n"
     ]
    },
    {
     "name": "stdout",
     "output_type": "stream",
     "text": [
      "Epoch 9  LR=0.001\n"
     ]
    },
    {
     "name": "stderr",
     "output_type": "stream",
     "text": [
      "Train: 100%|██████████| 80/80 [00:48<00:00,  1.66batch/s, avgloss=130254.592014, loss=7344005.2109375]\n",
      "Validate: 100%|██████████| 27/27 [00:09<00:00,  2.88batch/s, avgloss=187555.330729, loss=5063993.9296875]\n"
     ]
    },
    {
     "name": "stdout",
     "output_type": "stream",
     "text": [
      "Epoch 10  LR=0.001\n"
     ]
    },
    {
     "name": "stderr",
     "output_type": "stream",
     "text": [
      "Train: 100%|██████████| 80/80 [00:48<00:00,  1.66batch/s, avgloss=187555.330729, loss=6915129.287109375]\n",
      "Validate: 100%|██████████| 27/27 [00:09<00:00,  2.90batch/s, avgloss=115549.679398, loss=3119841.34375]  \n"
     ]
    },
    {
     "name": "stdout",
     "output_type": "stream",
     "text": [
      "Epoch 11  LR=0.001\n"
     ]
    },
    {
     "name": "stderr",
     "output_type": "stream",
     "text": [
      "Train: 100%|██████████| 80/80 [00:50<00:00,  1.59batch/s, avgloss=115549.679398, loss=6336211.919921875]\n",
      "Validate: 100%|██████████| 27/27 [00:13<00:00,  2.07batch/s, avgloss=82830.668692, loss=2236428.0546875]\n"
     ]
    },
    {
     "name": "stdout",
     "output_type": "stream",
     "text": [
      "Epoch 12  LR=0.001\n"
     ]
    },
    {
     "name": "stderr",
     "output_type": "stream",
     "text": [
      "Train: 100%|██████████| 80/80 [00:50<00:00,  1.59batch/s, avgloss=82830.668692, loss=5993412.513671875]\n",
      "Validate: 100%|██████████| 27/27 [00:09<00:00,  2.87batch/s, avgloss=90829.901331, loss=2452407.3359375]\n"
     ]
    },
    {
     "name": "stdout",
     "output_type": "stream",
     "text": [
      "Epoch 13  LR=0.001\n"
     ]
    },
    {
     "name": "stderr",
     "output_type": "stream",
     "text": [
      "Train: 100%|██████████| 80/80 [00:47<00:00,  1.68batch/s, avgloss=90829.901331, loss=5500867.6865234375]\n",
      "Validate: 100%|██████████| 27/27 [00:09<00:00,  2.90batch/s, avgloss=105686.618779, loss=2853538.70703125]\n"
     ]
    },
    {
     "name": "stdout",
     "output_type": "stream",
     "text": [
      "Epoch 14  LR=0.001\n"
     ]
    },
    {
     "name": "stderr",
     "output_type": "stream",
     "text": [
      "Train: 100%|██████████| 80/80 [00:47<00:00,  1.68batch/s, avgloss=105686.618779, loss=5075836.958984375]\n",
      "Validate: 100%|██████████| 27/27 [00:09<00:00,  2.89batch/s, avgloss=76845.339265, loss=2074824.16015625]\n"
     ]
    },
    {
     "name": "stdout",
     "output_type": "stream",
     "text": [
      "Epoch 15  LR=0.001\n"
     ]
    },
    {
     "name": "stderr",
     "output_type": "stream",
     "text": [
      "Train: 100%|██████████| 80/80 [01:20<00:00,  1.01s/batch, avgloss=76845.339265, loss=5052841.607421875]\n",
      "Validate: 100%|██████████| 27/27 [00:44<00:00,  1.63s/batch, avgloss=76337.151186, loss=2061103.08203125]\n"
     ]
    },
    {
     "name": "stdout",
     "output_type": "stream",
     "text": [
      "Epoch 16  LR=0.001\n"
     ]
    },
    {
     "name": "stderr",
     "output_type": "stream",
     "text": [
      "Train: 100%|██████████| 80/80 [01:25<00:00,  1.07s/batch, avgloss=76337.151186, loss=4764728.40625]   \n",
      "Validate: 100%|██████████| 27/27 [00:09<00:00,  2.85batch/s, avgloss=88769.069734, loss=2396764.8828125]\n"
     ]
    },
    {
     "name": "stdout",
     "output_type": "stream",
     "text": [
      "Epoch 17  LR=0.001\n"
     ]
    },
    {
     "name": "stderr",
     "output_type": "stream",
     "text": [
      "Train: 100%|██████████| 80/80 [00:48<00:00,  1.65batch/s, avgloss=88769.069734, loss=4523912.685546875]\n",
      "Validate: 100%|██████████| 27/27 [00:09<00:00,  2.82batch/s, avgloss=66183.248119, loss=1786947.69921875]\n"
     ]
    },
    {
     "name": "stdout",
     "output_type": "stream",
     "text": [
      "Epoch 18  LR=0.001\n"
     ]
    },
    {
     "name": "stderr",
     "output_type": "stream",
     "text": [
      "Train: 100%|██████████| 80/80 [00:48<00:00,  1.65batch/s, avgloss=66183.248119, loss=4310615.65625]   \n",
      "Validate: 100%|██████████| 27/27 [00:09<00:00,  2.81batch/s, avgloss=103545.095197, loss=2795717.5703125]\n"
     ]
    },
    {
     "name": "stdout",
     "output_type": "stream",
     "text": [
      "Epoch 19  LR=0.001\n"
     ]
    },
    {
     "name": "stderr",
     "output_type": "stream",
     "text": [
      "Train: 100%|██████████| 80/80 [02:06<00:00,  1.58s/batch, avgloss=103545.095197, loss=4373190.44921875]\n",
      "Validate: 100%|██████████| 27/27 [00:52<00:00,  1.96s/batch, avgloss=70622.416377, loss=1906805.2421875] \n"
     ]
    },
    {
     "name": "stdout",
     "output_type": "stream",
     "text": [
      "Epoch 20  LR=0.001\n"
     ]
    },
    {
     "name": "stderr",
     "output_type": "stream",
     "text": [
      "Train: 100%|██████████| 80/80 [01:36<00:00,  1.20s/batch, avgloss=70622.416377, loss=3929989.126953125]\n",
      "Validate: 100%|██████████| 27/27 [00:09<00:00,  2.99batch/s, avgloss=65403.822627, loss=1765903.2109375] \n"
     ]
    },
    {
     "name": "stdout",
     "output_type": "stream",
     "text": [
      "Epoch 21  LR=0.001\n"
     ]
    },
    {
     "name": "stderr",
     "output_type": "stream",
     "text": [
      "Train: 100%|██████████| 80/80 [00:47<00:00,  1.69batch/s, avgloss=65403.822627, loss=3822552.880859375]\n",
      "Validate: 100%|██████████| 27/27 [00:09<00:00,  2.92batch/s, avgloss=55853.261863, loss=1508038.0703125] \n"
     ]
    },
    {
     "name": "stdout",
     "output_type": "stream",
     "text": [
      "Epoch 22  LR=0.001\n"
     ]
    },
    {
     "name": "stderr",
     "output_type": "stream",
     "text": [
      "Train: 100%|██████████| 80/80 [00:48<00:00,  1.65batch/s, avgloss=55853.261863, loss=3446968.708984375]\n",
      "Validate: 100%|██████████| 27/27 [00:09<00:00,  2.73batch/s, avgloss=59096.603443, loss=1595608.29296875]\n"
     ]
    },
    {
     "name": "stdout",
     "output_type": "stream",
     "text": [
      "Epoch 23  LR=0.001\n"
     ]
    },
    {
     "name": "stderr",
     "output_type": "stream",
     "text": [
      "Train: 100%|██████████| 80/80 [00:48<00:00,  1.64batch/s, avgloss=59096.603443, loss=3672725.955078125]\n",
      "Validate: 100%|██████████| 27/27 [00:42<00:00,  1.59s/batch, avgloss=62652.574508, loss=1691619.51171875]\n"
     ]
    },
    {
     "name": "stdout",
     "output_type": "stream",
     "text": [
      "Epoch 24  LR=0.001\n"
     ]
    },
    {
     "name": "stderr",
     "output_type": "stream",
     "text": [
      "Train: 100%|██████████| 80/80 [01:37<00:00,  1.21s/batch, avgloss=62652.574508, loss=3400118.5712890625]\n",
      "Validate: 100%|██████████| 27/27 [00:09<00:00,  2.97batch/s, avgloss=61352.403935, loss=1656514.90625]   \n"
     ]
    },
    {
     "name": "stdout",
     "output_type": "stream",
     "text": [
      "Epoch 25  LR=0.001\n"
     ]
    },
    {
     "name": "stderr",
     "output_type": "stream",
     "text": [
      "Train: 100%|██████████| 80/80 [00:47<00:00,  1.68batch/s, avgloss=61352.403935, loss=3268824.5439453125]\n",
      "Validate: 100%|██████████| 27/27 [00:09<00:00,  2.93batch/s, avgloss=64116.329716, loss=1731140.90234375]\n"
     ]
    },
    {
     "name": "stdout",
     "output_type": "stream",
     "text": [
      "Epoch 26  LR=0.001\n"
     ]
    },
    {
     "name": "stderr",
     "output_type": "stream",
     "text": [
      "Train: 100%|██████████| 80/80 [00:47<00:00,  1.67batch/s, avgloss=64116.329716, loss=3045873.2548828125]\n",
      "Validate: 100%|██████████| 27/27 [00:09<00:00,  2.82batch/s, avgloss=56519.868345, loss=1526036.4453125] \n"
     ]
    },
    {
     "name": "stdout",
     "output_type": "stream",
     "text": [
      "Epoch 27  LR=0.001\n"
     ]
    },
    {
     "name": "stderr",
     "output_type": "stream",
     "text": [
      "Train: 100%|██████████| 80/80 [00:47<00:00,  1.70batch/s, avgloss=56519.868345, loss=2948798.9501953125]\n",
      "Validate: 100%|██████████| 27/27 [00:08<00:00,  3.06batch/s, avgloss=53955.875145, loss=1456808.62890625]\n"
     ]
    },
    {
     "name": "stdout",
     "output_type": "stream",
     "text": [
      "Epoch 28  LR=0.001\n"
     ]
    },
    {
     "name": "stderr",
     "output_type": "stream",
     "text": [
      "Train: 100%|██████████| 80/80 [00:46<00:00,  1.74batch/s, avgloss=53955.875145, loss=2990422.4716796875]\n",
      "Validate: 100%|██████████| 27/27 [00:08<00:00,  3.06batch/s, avgloss=70252.942130, loss=1896829.4375]    \n"
     ]
    },
    {
     "name": "stdout",
     "output_type": "stream",
     "text": [
      "Epoch 29  LR=0.001\n"
     ]
    },
    {
     "name": "stderr",
     "output_type": "stream",
     "text": [
      "Train: 100%|██████████| 80/80 [00:46<00:00,  1.73batch/s, avgloss=70252.942130, loss=2877737.57421875] \n",
      "Validate: 100%|██████████| 27/27 [00:09<00:00,  2.95batch/s, avgloss=65258.237992, loss=1761972.42578125]\n"
     ]
    },
    {
     "name": "stdout",
     "output_type": "stream",
     "text": [
      "Epoch 30  LR=0.001\n"
     ]
    },
    {
     "name": "stderr",
     "output_type": "stream",
     "text": [
      "Train: 100%|██████████| 80/80 [00:47<00:00,  1.69batch/s, avgloss=65258.237992, loss=2836009.8017578125]\n",
      "Validate: 100%|██████████| 27/27 [00:09<00:00,  2.91batch/s, avgloss=57306.703848, loss=1547281.00390625]\n"
     ]
    },
    {
     "name": "stdout",
     "output_type": "stream",
     "text": [
      "Epoch 31  LR=0.001\n"
     ]
    },
    {
     "name": "stderr",
     "output_type": "stream",
     "text": [
      "Train: 100%|██████████| 80/80 [00:48<00:00,  1.66batch/s, avgloss=57306.703848, loss=2658335.2587890625]\n",
      "Validate: 100%|██████████| 27/27 [00:09<00:00,  2.78batch/s, avgloss=48879.254630, loss=1319739.875]     \n"
     ]
    },
    {
     "name": "stdout",
     "output_type": "stream",
     "text": [
      "Epoch 32  LR=0.001\n"
     ]
    },
    {
     "name": "stderr",
     "output_type": "stream",
     "text": [
      "Train: 100%|██████████| 80/80 [00:49<00:00,  1.63batch/s, avgloss=48879.254630, loss=2396009.6240234375]\n",
      "Validate: 100%|██████████| 27/27 [00:09<00:00,  2.93batch/s, avgloss=49924.906829, loss=1347972.484375]  \n"
     ]
    },
    {
     "name": "stdout",
     "output_type": "stream",
     "text": [
      "Epoch 33  LR=0.001\n"
     ]
    },
    {
     "name": "stderr",
     "output_type": "stream",
     "text": [
      "Train: 100%|██████████| 80/80 [00:47<00:00,  1.67batch/s, avgloss=49924.906829, loss=2558614.2783203125]\n",
      "Validate: 100%|██████████| 27/27 [00:09<00:00,  2.86batch/s, avgloss=55835.000651, loss=1507545.017578125]\n"
     ]
    },
    {
     "name": "stdout",
     "output_type": "stream",
     "text": [
      "Epoch 34  LR=0.001\n"
     ]
    },
    {
     "name": "stderr",
     "output_type": "stream",
     "text": [
      "Train: 100%|██████████| 80/80 [00:47<00:00,  1.68batch/s, avgloss=55835.000651, loss=2380576.9091796875]\n",
      "Validate: 100%|██████████| 27/27 [00:10<00:00,  2.68batch/s, avgloss=46014.073857, loss=1242379.994140625]\n"
     ]
    },
    {
     "name": "stdout",
     "output_type": "stream",
     "text": [
      "Epoch 35  LR=0.001\n"
     ]
    },
    {
     "name": "stderr",
     "output_type": "stream",
     "text": [
      "Train: 100%|██████████| 80/80 [00:51<00:00,  1.56batch/s, avgloss=46014.073857, loss=2274119.7158203125]\n",
      "Validate: 100%|██████████| 27/27 [00:11<00:00,  2.35batch/s, avgloss=53606.645616, loss=1447379.431640625]\n"
     ]
    },
    {
     "name": "stdout",
     "output_type": "stream",
     "text": [
      "Epoch 36  LR=0.001\n"
     ]
    },
    {
     "name": "stderr",
     "output_type": "stream",
     "text": [
      "Train: 100%|██████████| 80/80 [00:59<00:00,  1.35batch/s, avgloss=53606.645616, loss=2346389.4638671875]\n",
      "Validate: 100%|██████████| 27/27 [00:15<00:00,  1.76batch/s, avgloss=51007.773582, loss=1377209.88671875]\n"
     ]
    },
    {
     "name": "stdout",
     "output_type": "stream",
     "text": [
      "Epoch 37  LR=0.001\n"
     ]
    },
    {
     "name": "stderr",
     "output_type": "stream",
     "text": [
      "Train: 100%|██████████| 80/80 [00:54<00:00,  1.46batch/s, avgloss=51007.773582, loss=2324447.5224609375]\n",
      "Validate: 100%|██████████| 27/27 [00:11<00:00,  2.42batch/s, avgloss=49548.343316, loss=1337805.26953125]\n"
     ]
    },
    {
     "name": "stdout",
     "output_type": "stream",
     "text": [
      "Epoch 38  LR=0.001\n"
     ]
    },
    {
     "name": "stderr",
     "output_type": "stream",
     "text": [
      "Train: 100%|██████████| 80/80 [00:55<00:00,  1.45batch/s, avgloss=49548.343316, loss=2113033.4072265625]\n",
      "Validate: 100%|██████████| 27/27 [00:10<00:00,  2.57batch/s, avgloss=43053.745877, loss=1162451.138671875]\n"
     ]
    },
    {
     "name": "stdout",
     "output_type": "stream",
     "text": [
      "Epoch 39  LR=0.001\n"
     ]
    },
    {
     "name": "stderr",
     "output_type": "stream",
     "text": [
      "Train: 100%|██████████| 80/80 [00:59<00:00,  1.35batch/s, avgloss=43053.745877, loss=2119057.4643554688]\n",
      "Validate: 100%|██████████| 27/27 [00:12<00:00,  2.08batch/s, avgloss=51339.617694, loss=1386169.677734375]\n"
     ]
    },
    {
     "name": "stdout",
     "output_type": "stream",
     "text": [
      "Epoch 40  LR=0.001\n"
     ]
    },
    {
     "name": "stderr",
     "output_type": "stream",
     "text": [
      "Train: 100%|██████████| 80/80 [01:05<00:00,  1.22batch/s, avgloss=51339.617694, loss=2218752.2265625]  \n",
      "Validate: 100%|██████████| 27/27 [00:46<00:00,  1.72s/batch, avgloss=46201.154514, loss=1247431.171875]  \n"
     ]
    },
    {
     "name": "stdout",
     "output_type": "stream",
     "text": [
      "Epoch 41  LR=0.001\n"
     ]
    },
    {
     "name": "stderr",
     "output_type": "stream",
     "text": [
      "Train: 100%|██████████| 80/80 [01:04<00:00,  1.24batch/s, avgloss=46201.154514, loss=2123804.82421875] \n",
      "Validate: 100%|██████████| 27/27 [00:09<00:00,  2.74batch/s, avgloss=44537.842520, loss=1202521.748046875]\n"
     ]
    },
    {
     "name": "stdout",
     "output_type": "stream",
     "text": [
      "Epoch 42  LR=0.001\n"
     ]
    },
    {
     "name": "stderr",
     "output_type": "stream",
     "text": [
      "Train: 100%|██████████| 80/80 [00:48<00:00,  1.64batch/s, avgloss=44537.842520, loss=2039388.16796875] \n",
      "Validate: 100%|██████████| 27/27 [00:10<00:00,  2.60batch/s, avgloss=45926.459997, loss=1240014.419921875]\n"
     ]
    },
    {
     "name": "stdout",
     "output_type": "stream",
     "text": [
      "Epoch 43  LR=0.001\n"
     ]
    },
    {
     "name": "stderr",
     "output_type": "stream",
     "text": [
      "Train: 100%|██████████| 80/80 [00:50<00:00,  1.59batch/s, avgloss=45926.459997, loss=1924166.50390625] \n",
      "Validate: 100%|██████████| 27/27 [00:09<00:00,  2.87batch/s, avgloss=46668.566334, loss=1260051.291015625]\n"
     ]
    },
    {
     "name": "stdout",
     "output_type": "stream",
     "text": [
      "Epoch 44  LR=0.001\n"
     ]
    },
    {
     "name": "stderr",
     "output_type": "stream",
     "text": [
      "Train: 100%|██████████| 80/80 [00:49<00:00,  1.60batch/s, avgloss=46668.566334, loss=1906088.6298828125]\n",
      "Validate: 100%|██████████| 27/27 [00:10<00:00,  2.55batch/s, avgloss=50594.222367, loss=1366044.00390625]\n"
     ]
    },
    {
     "name": "stdout",
     "output_type": "stream",
     "text": [
      "Epoch 45  LR=0.001\n"
     ]
    },
    {
     "name": "stderr",
     "output_type": "stream",
     "text": [
      "Train: 100%|██████████| 80/80 [00:54<00:00,  1.48batch/s, avgloss=50594.222367, loss=1775466.6596679688]\n",
      "Validate: 100%|██████████| 27/27 [00:11<00:00,  2.31batch/s, avgloss=39900.667896, loss=1077318.033203125]\n"
     ]
    },
    {
     "name": "stdout",
     "output_type": "stream",
     "text": [
      "Epoch 46  LR=0.001\n"
     ]
    },
    {
     "name": "stderr",
     "output_type": "stream",
     "text": [
      "Train: 100%|██████████| 80/80 [00:53<00:00,  1.50batch/s, avgloss=39900.667896, loss=1734264.1186523438]\n",
      "Validate: 100%|██████████| 27/27 [00:09<00:00,  2.80batch/s, avgloss=42794.857205, loss=1155461.14453125]\n"
     ]
    },
    {
     "name": "stdout",
     "output_type": "stream",
     "text": [
      "Epoch 47  LR=0.001\n"
     ]
    },
    {
     "name": "stderr",
     "output_type": "stream",
     "text": [
      "Train: 100%|██████████| 80/80 [00:49<00:00,  1.61batch/s, avgloss=42794.857205, loss=1677734.9243164062]\n",
      "Validate: 100%|██████████| 27/27 [00:09<00:00,  2.87batch/s, avgloss=49200.701244, loss=1328418.93359375]\n"
     ]
    },
    {
     "name": "stdout",
     "output_type": "stream",
     "text": [
      "Epoch 48  LR=0.001\n"
     ]
    },
    {
     "name": "stderr",
     "output_type": "stream",
     "text": [
      "Train: 100%|██████████| 80/80 [00:50<00:00,  1.58batch/s, avgloss=49200.701244, loss=1614171.9130859375]\n",
      "Validate: 100%|██████████| 27/27 [00:09<00:00,  2.71batch/s, avgloss=48901.220052, loss=1320332.94140625]\n"
     ]
    },
    {
     "name": "stdout",
     "output_type": "stream",
     "text": [
      "Epoch 49  LR=0.001\n"
     ]
    },
    {
     "name": "stderr",
     "output_type": "stream",
     "text": [
      "Train: 100%|██████████| 80/80 [00:51<00:00,  1.56batch/s, avgloss=48901.220052, loss=1446582.7592773438]\n",
      "Validate: 100%|██████████| 27/27 [00:10<00:00,  2.58batch/s, avgloss=40778.842014, loss=1101028.734375]  \n"
     ]
    },
    {
     "name": "stdout",
     "output_type": "stream",
     "text": [
      "Epoch 50  LR=0.001\n"
     ]
    },
    {
     "name": "stderr",
     "output_type": "stream",
     "text": [
      "Train: 100%|██████████| 80/80 [00:52<00:00,  1.53batch/s, avgloss=40778.842014, loss=1380080.0927734375]\n",
      "Validate: 100%|██████████| 27/27 [00:10<00:00,  2.69batch/s, avgloss=41146.939164, loss=1110967.357421875]\n"
     ]
    }
   ],
   "source": [
    "train_loss_list = []\n",
    "val_loss_list = []\n",
    "for epoch in range(epochs):\n",
    "    print('Epoch {}'.format(epoch+1) + \"  LR=\" + f\"{optimizer.param_groups[0]['lr']}\")\n",
    "    model.train()\n",
    "    total_train_loss = 0\n",
    "    with tqdm(train_dataloader, unit='batch', desc='Train') as tqdm_loader:\n",
    "        for idx, data in enumerate(tqdm_loader):\n",
    "            csi_amp = data[0].cuda()\n",
    "            keypoint = data[1].cuda()\n",
    "            \n",
    "            outputs = model(csi_amp).cuda()\n",
    "            \n",
    "            # Compute loss\n",
    "            train_loss = 0\n",
    "            for i in range(17):\n",
    "                train_loss += weighted_mse_loss(outputs[:,i,:], keypoint[:, i, :], w[i])\n",
    "            train_loss = torch.div(train_loss, 34)\n",
    "            \n",
    "            # Bachward pass and optimization\n",
    "            optimizer.zero_grad()\n",
    "            train_loss.backward()\n",
    "            optimizer.step()\n",
    "            \n",
    "            total_train_loss += train_loss.detach().item()\n",
    "            avg_train_loss = total_train_loss / (idx + 1)\n",
    "            tqdm_loader.set_postfix(loss=f'{total_train_loss}', avgloss=f'{avg_val_loss:.6f}')\n",
    "        train_loss_list.append(avg_train_loss)\n",
    "        \n",
    "        model.eval()\n",
    "        total_val_loss = 0\n",
    "        with tqdm(val_dataloader, unit='batch', desc='Validate') as tqdm_loader:\n",
    "            for idx, data in enumerate(tqdm_loader):\n",
    "                csi_amp = data[0].cuda()\n",
    "                keypoint = data[1].cuda()\n",
    "                \n",
    "                outputs = model(csi_amp).cuda()\n",
    "                \n",
    "                # Compute loss\n",
    "                val_loss = 0\n",
    "                for i in range(17):\n",
    "                    val_loss += weighted_mse_loss(outputs[:,i,:], keypoint[:, i, :], w[i])\n",
    "                val_loss = torch.div(val_loss, 34)\n",
    "                 \n",
    "                total_val_loss += val_loss.detach().item()\n",
    "                avg_val_loss = total_val_loss / (idx + 1)\n",
    "                tqdm_loader.set_postfix(loss=f'{total_val_loss}', avgloss=f'{avg_val_loss:.6f}')\n",
    "        val_loss_list.append(avg_val_loss)\n",
    "    "
   ]
  },
  {
   "cell_type": "code",
   "execution_count": 24,
   "metadata": {},
   "outputs": [
    {
     "data": {
      "image/png": "[encoded data removed]",
      "text/plain": [
       "<Figure size 640x480 with 1 Axes>"
      ]
     },
     "metadata": {},
     "output_type": "display_data"
    }
   ],
   "source": [
    "plt.plot(train_loss_list, label='train loss')\n",
    "plt.plot(val_loss_list, label='val loss')\n",
    "plt.xlabel('Epoch')\n",
    "plt.legend()\n",
    "plt.show()"
   ]
  },
  {
   "cell_type": "code",
   "execution_count": 27,
   "metadata": {},
   "outputs": [],
   "source": [
    "torch.save(model.state_dict(), '../TCN_AA/tcn_aa01.pt')"
   ]
  }
 ],
 "metadata": {
  "kernelspec": {
   "display_name": "Python 3",
   "language": "python",
   "name": "python3"
  },
  "language_info": {
   "codemirror_mode": {
    "name": "ipython",
    "version": 3
   },
   "file_extension": ".py",
   "mimetype": "text/x-python",
   "name": "python",
   "nbconvert_exporter": "python",
   "pygments_lexer": "ipython3",
   "version": "3.12.3"
  }
 },
 "nbformat": 4,
 "nbformat_minor": 2
}
